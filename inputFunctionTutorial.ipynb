{
 "cells": [
  {
   "cell_type": "markdown",
   "metadata": {},
   "source": [
    "https://www.tensorflow.org/versions/r0.11/tutorials/input_fn/index.html\n",
    "\n",
    "building input functions with tf.contrib.learn"
   ]
  },
  {
   "cell_type": "markdown",
   "metadata": {},
   "source": [
    "To start, set up your imports (including pandas and tensorflow) and set logging verbosity to INFO for more detailed log output:"
   ]
  },
  {
   "cell_type": "code",
   "execution_count": 1,
   "metadata": {
    "collapsed": true
   },
   "outputs": [],
   "source": [
    "from __future__ import absolute_import\n",
    "from __future__ import division\n",
    "from __future__ import print_function\n",
    "import pandas as pd\n",
    "import tensorflow as tf\n",
    "\n",
    "tf.logging.set_verbosity(tf.logging.INFO)"
   ]
  },
  {
   "cell_type": "markdown",
   "metadata": {},
   "source": [
    "Define the column names for the data set in COLUMNS. To distinguish features from the label, also define FEATURES and LABEL. Then read the three CSVs (train, test, and predict) into pandas DataFrames:"
   ]
  },
  {
   "cell_type": "code",
   "execution_count": 5,
   "metadata": {
    "collapsed": false
   },
   "outputs": [],
   "source": [
    "COLUMNS = [\"crim\", \"zn\", \"indus\", \"nox\", \"rm\", \"age\",\n",
    "           \"dis\", \"tax\", \"ptratio\", \"medv\"]\n",
    "FEATURES = [\"crim\", \"zn\", \"indus\", \"nox\", \"rm\",\n",
    "            \"age\", \"dis\", \"tax\", \"ptratio\"]\n",
    "LABEL = \"medv\"\n",
    "\n",
    "training_set = pd.read_csv(\"./boston_data/boston_train.csv\", skipinitialspace=True,\n",
    "                           skiprows=1, names=COLUMNS)\n",
    "test_set = pd.read_csv(\"./boston_data/boston_test.csv\", skipinitialspace=True,\n",
    "                       skiprows=1, names=COLUMNS)\n",
    "prediction_set = pd.read_csv(\"./boston_data/boston_predict.csv\", skipinitialspace=True,\n",
    "                             skiprows=1, names=COLUMNS)"
   ]
  },
  {
   "cell_type": "markdown",
   "metadata": {},
   "source": [
    "Next, create a list of FeatureColumns for the input data, which formally specify the set of features to use for training. Because all features in the housing data set contain continuous values, you can create their FeatureColumns using the tf.contrib.layers.real_valued_column() function:"
   ]
  },
  {
   "cell_type": "code",
   "execution_count": 8,
   "metadata": {
    "collapsed": true
   },
   "outputs": [],
   "source": [
    "feature_cols = [tf.contrib.layers.real_valued_column(k)\n",
    "                  for k in FEATURES]"
   ]
  },
  {
   "cell_type": "markdown",
   "metadata": {},
   "source": [
    "Now, instantiate a DNNRegressor for the neural network regression model. You'll need to provide two arguments here: hidden_units, a hyperparameter specifying the number of nodes in each hidden layer (here, two hidden layers with 10 nodes each), and feature_columns, containing the list of FeatureColumns you just defined:"
   ]
  },
  {
   "cell_type": "code",
   "execution_count": 11,
   "metadata": {
    "collapsed": false
   },
   "outputs": [
    {
     "name": "stderr",
     "output_type": "stream",
     "text": [
      "WARNING:tensorflow:Using temporary folder as model directory: /tmp/tmp5ft8b0l9\n",
      "WARNING:tensorflow:Using default config.\n",
      "INFO:tensorflow:Using config: {'keep_checkpoint_every_n_hours': 10000, 'evaluation_master': '', 'tf_random_seed': None, 'cluster_spec': None, 'num_ps_replicas': 0, 'master': '', 'tf_config': gpu_options {\n",
      "  per_process_gpu_memory_fraction: 1\n",
      "}\n",
      ", '_job_name': None, 'save_checkpoints_secs': 600, 'keep_checkpoint_max': 5, 'save_summary_steps': 100, '_is_chief': True, 'task': 0}\n"
     ]
    }
   ],
   "source": [
    "regressor = tf.contrib.learn.DNNRegressor(\n",
    "    feature_columns=feature_cols, hidden_units=[10, 10], enable_centered_bias = True)"
   ]
  },
  {
   "cell_type": "markdown",
   "metadata": {},
   "source": [
    "To pass input data into the regressor, create an input function, which will accept a pandas Dataframe and return feature column and label values as Tensors:"
   ]
  },
  {
   "cell_type": "code",
   "execution_count": 14,
   "metadata": {
    "collapsed": false
   },
   "outputs": [],
   "source": [
    "def input_fn(data_set):\n",
    "  feature_cols = {k: tf.constant(data_set[k].values) for k in FEATURES}\n",
    "  labels = tf.constant(data_set[LABEL].values)\n",
    "  return feature_cols, labels"
   ]
  },
  {
   "cell_type": "markdown",
   "metadata": {},
   "source": [
    "To train the neural network regressor, run fit with the training_set passed to the input_fn as follows:"
   ]
  },
  {
   "cell_type": "code",
   "execution_count": 15,
   "metadata": {
    "collapsed": false
   },
   "outputs": [
    {
     "name": "stderr",
     "output_type": "stream",
     "text": [
      "INFO:tensorflow:Setting feature info to {'nox': TensorSignature(dtype=tf.float64, shape=TensorShape([Dimension(400)]), is_sparse=False), 'age': TensorSignature(dtype=tf.float64, shape=TensorShape([Dimension(400)]), is_sparse=False), 'crim': TensorSignature(dtype=tf.float64, shape=TensorShape([Dimension(400)]), is_sparse=False), 'indus': TensorSignature(dtype=tf.float64, shape=TensorShape([Dimension(400)]), is_sparse=False), 'ptratio': TensorSignature(dtype=tf.float64, shape=TensorShape([Dimension(400)]), is_sparse=False), 'dis': TensorSignature(dtype=tf.float64, shape=TensorShape([Dimension(400)]), is_sparse=False), 'zn': TensorSignature(dtype=tf.float64, shape=TensorShape([Dimension(400)]), is_sparse=False), 'rm': TensorSignature(dtype=tf.float64, shape=TensorShape([Dimension(400)]), is_sparse=False), 'tax': TensorSignature(dtype=tf.int64, shape=TensorShape([Dimension(400)]), is_sparse=False)}\n",
      "INFO:tensorflow:Setting targets info to TensorSignature(dtype=tf.float64, shape=TensorShape([Dimension(400)]), is_sparse=False)\n",
      "INFO:tensorflow:Transforming feature_column _RealValuedColumn(column_name='age', dimension=1, default_value=None, dtype=tf.float32, normalizer=None)\n",
      "INFO:tensorflow:Transforming feature_column _RealValuedColumn(column_name='crim', dimension=1, default_value=None, dtype=tf.float32, normalizer=None)\n",
      "INFO:tensorflow:Transforming feature_column _RealValuedColumn(column_name='dis', dimension=1, default_value=None, dtype=tf.float32, normalizer=None)\n",
      "INFO:tensorflow:Transforming feature_column _RealValuedColumn(column_name='indus', dimension=1, default_value=None, dtype=tf.float32, normalizer=None)\n",
      "INFO:tensorflow:Transforming feature_column _RealValuedColumn(column_name='nox', dimension=1, default_value=None, dtype=tf.float32, normalizer=None)\n",
      "INFO:tensorflow:Transforming feature_column _RealValuedColumn(column_name='ptratio', dimension=1, default_value=None, dtype=tf.float32, normalizer=None)\n",
      "INFO:tensorflow:Transforming feature_column _RealValuedColumn(column_name='rm', dimension=1, default_value=None, dtype=tf.float32, normalizer=None)\n",
      "INFO:tensorflow:Transforming feature_column _RealValuedColumn(column_name='tax', dimension=1, default_value=None, dtype=tf.float32, normalizer=None)\n",
      "INFO:tensorflow:Transforming feature_column _RealValuedColumn(column_name='zn', dimension=1, default_value=None, dtype=tf.float32, normalizer=None)\n",
      "INFO:tensorflow:Create CheckpointSaverHook\n",
      "INFO:tensorflow:loss = 1018.33, step = 1\n",
      "INFO:tensorflow:Saving checkpoints for 1 into /tmp/tmp5ft8b0l9/model.ckpt.\n",
      "INFO:tensorflow:loss = 151.76, step = 101\n",
      "INFO:tensorflow:loss = 99.3602, step = 201\n",
      "INFO:tensorflow:loss = 84.5842, step = 301\n",
      "INFO:tensorflow:loss = 79.2739, step = 401\n",
      "INFO:tensorflow:loss = 75.7498, step = 501\n",
      "INFO:tensorflow:loss = 73.3146, step = 601\n",
      "INFO:tensorflow:loss = 71.541, step = 701\n",
      "INFO:tensorflow:loss = 70.1421, step = 801\n",
      "INFO:tensorflow:loss = 68.9384, step = 901\n",
      "INFO:tensorflow:loss = 67.8351, step = 1001\n",
      "INFO:tensorflow:loss = 66.7749, step = 1101\n",
      "INFO:tensorflow:loss = 65.7423, step = 1201\n",
      "INFO:tensorflow:loss = 64.7524, step = 1301\n",
      "INFO:tensorflow:loss = 64.0983, step = 1401\n",
      "INFO:tensorflow:loss = 62.8845, step = 1501\n",
      "INFO:tensorflow:loss = 61.6945, step = 1601\n",
      "INFO:tensorflow:loss = 59.4129, step = 1701\n",
      "INFO:tensorflow:loss = 59.6385, step = 1801\n",
      "INFO:tensorflow:loss = 57.1927, step = 1901\n",
      "INFO:tensorflow:loss = 56.4093, step = 2001\n",
      "INFO:tensorflow:loss = 55.5532, step = 2101\n",
      "INFO:tensorflow:loss = 54.3442, step = 2201\n",
      "INFO:tensorflow:loss = 52.805, step = 2301\n",
      "INFO:tensorflow:loss = 51.8445, step = 2401\n",
      "INFO:tensorflow:loss = 50.8828, step = 2501\n",
      "INFO:tensorflow:loss = 50.5577, step = 2601\n",
      "INFO:tensorflow:loss = 48.712, step = 2701\n",
      "INFO:tensorflow:loss = 47.6046, step = 2801\n",
      "INFO:tensorflow:loss = 48.1066, step = 2901\n",
      "INFO:tensorflow:loss = 45.923, step = 3001\n",
      "INFO:tensorflow:loss = 45.202, step = 3101\n",
      "INFO:tensorflow:loss = 44.9145, step = 3201\n",
      "INFO:tensorflow:loss = 43.6754, step = 3301\n",
      "INFO:tensorflow:loss = 43.3352, step = 3401\n",
      "INFO:tensorflow:loss = 42.4121, step = 3501\n",
      "INFO:tensorflow:loss = 41.8551, step = 3601\n",
      "INFO:tensorflow:loss = 41.357, step = 3701\n",
      "INFO:tensorflow:loss = 40.709, step = 3801\n",
      "INFO:tensorflow:loss = 40.286, step = 3901\n",
      "INFO:tensorflow:loss = 39.8757, step = 4001\n",
      "INFO:tensorflow:loss = 39.381, step = 4101\n",
      "INFO:tensorflow:loss = 38.483, step = 4201\n",
      "INFO:tensorflow:loss = 38.5566, step = 4301\n",
      "INFO:tensorflow:loss = 38.3895, step = 4401\n",
      "INFO:tensorflow:loss = 37.3572, step = 4501\n",
      "INFO:tensorflow:loss = 39.4335, step = 4601\n",
      "INFO:tensorflow:loss = 36.8199, step = 4701\n",
      "INFO:tensorflow:loss = 37.1882, step = 4801\n",
      "INFO:tensorflow:loss = 37.1535, step = 4901\n",
      "INFO:tensorflow:Saving checkpoints for 5000 into /tmp/tmp5ft8b0l9/model.ckpt.\n",
      "INFO:tensorflow:Loss for final step: 36.5936.\n"
     ]
    },
    {
     "data": {
      "text/plain": [
       "DNNRegressor(hidden_units=[10, 10], optimizer=None, dropout=None, feature_columns=[_RealValuedColumn(column_name='crim', dimension=1, default_value=None, dtype=tf.float32, normalizer=None), _RealValuedColumn(column_name='zn', dimension=1, default_value=None, dtype=tf.float32, normalizer=None), _RealValuedColumn(column_name='indus', dimension=1, default_value=None, dtype=tf.float32, normalizer=None), _RealValuedColumn(column_name='nox', dimension=1, default_value=None, dtype=tf.float32, normalizer=None), _RealValuedColumn(column_name='rm', dimension=1, default_value=None, dtype=tf.float32, normalizer=None), _RealValuedColumn(column_name='age', dimension=1, default_value=None, dtype=tf.float32, normalizer=None), _RealValuedColumn(column_name='dis', dimension=1, default_value=None, dtype=tf.float32, normalizer=None), _RealValuedColumn(column_name='tax', dimension=1, default_value=None, dtype=tf.float32, normalizer=None), _RealValuedColumn(column_name='ptratio', dimension=1, default_value=None, dtype=tf.float32, normalizer=None)])"
      ]
     },
     "execution_count": 15,
     "metadata": {},
     "output_type": "execute_result"
    }
   ],
   "source": [
    "regressor.fit(input_fn=lambda: input_fn(training_set), steps=5000)"
   ]
  },
  {
   "cell_type": "markdown",
   "metadata": {},
   "source": [
    "# Evaluating the Model\n",
    "\n",
    "Next, see how the trained model performs against the test data set. Run evaluate, and this time pass the test_set to the input_fn:"
   ]
  },
  {
   "cell_type": "code",
   "execution_count": 16,
   "metadata": {
    "collapsed": false
   },
   "outputs": [
    {
     "name": "stderr",
     "output_type": "stream",
     "text": [
      "WARNING:tensorflow:Given features: {'nox': <tf.Tensor 'Const_3:0' shape=(100,) dtype=float64>, 'crim': <tf.Tensor 'Const:0' shape=(100,) dtype=float64>, 'indus': <tf.Tensor 'Const_2:0' shape=(100,) dtype=float64>, 'ptratio': <tf.Tensor 'Const_8:0' shape=(100,) dtype=float64>, 'dis': <tf.Tensor 'Const_6:0' shape=(100,) dtype=float64>, 'zn': <tf.Tensor 'Const_1:0' shape=(100,) dtype=float64>, 'rm': <tf.Tensor 'Const_4:0' shape=(100,) dtype=float64>, 'tax': <tf.Tensor 'Const_7:0' shape=(100,) dtype=int64>, 'age': <tf.Tensor 'Const_5:0' shape=(100,) dtype=float64>}, required signatures: {'nox': TensorSignature(dtype=tf.float64, shape=TensorShape([Dimension(400)]), is_sparse=False), 'age': TensorSignature(dtype=tf.float64, shape=TensorShape([Dimension(400)]), is_sparse=False), 'crim': TensorSignature(dtype=tf.float64, shape=TensorShape([Dimension(400)]), is_sparse=False), 'indus': TensorSignature(dtype=tf.float64, shape=TensorShape([Dimension(400)]), is_sparse=False), 'ptratio': TensorSignature(dtype=tf.float64, shape=TensorShape([Dimension(400)]), is_sparse=False), 'dis': TensorSignature(dtype=tf.float64, shape=TensorShape([Dimension(400)]), is_sparse=False), 'zn': TensorSignature(dtype=tf.float64, shape=TensorShape([Dimension(400)]), is_sparse=False), 'rm': TensorSignature(dtype=tf.float64, shape=TensorShape([Dimension(400)]), is_sparse=False), 'tax': TensorSignature(dtype=tf.int64, shape=TensorShape([Dimension(400)]), is_sparse=False)}.\n",
      "WARNING:tensorflow:Given targets: Tensor(\"Const_9:0\", shape=(100,), dtype=float64), required signatures: TensorSignature(dtype=tf.float64, shape=TensorShape([Dimension(400)]), is_sparse=False).\n",
      "INFO:tensorflow:Transforming feature_column _RealValuedColumn(column_name='age', dimension=1, default_value=None, dtype=tf.float32, normalizer=None)\n",
      "INFO:tensorflow:Transforming feature_column _RealValuedColumn(column_name='crim', dimension=1, default_value=None, dtype=tf.float32, normalizer=None)\n",
      "INFO:tensorflow:Transforming feature_column _RealValuedColumn(column_name='dis', dimension=1, default_value=None, dtype=tf.float32, normalizer=None)\n",
      "INFO:tensorflow:Transforming feature_column _RealValuedColumn(column_name='indus', dimension=1, default_value=None, dtype=tf.float32, normalizer=None)\n",
      "INFO:tensorflow:Transforming feature_column _RealValuedColumn(column_name='nox', dimension=1, default_value=None, dtype=tf.float32, normalizer=None)\n",
      "INFO:tensorflow:Transforming feature_column _RealValuedColumn(column_name='ptratio', dimension=1, default_value=None, dtype=tf.float32, normalizer=None)\n",
      "INFO:tensorflow:Transforming feature_column _RealValuedColumn(column_name='rm', dimension=1, default_value=None, dtype=tf.float32, normalizer=None)\n",
      "INFO:tensorflow:Transforming feature_column _RealValuedColumn(column_name='tax', dimension=1, default_value=None, dtype=tf.float32, normalizer=None)\n",
      "INFO:tensorflow:Transforming feature_column _RealValuedColumn(column_name='zn', dimension=1, default_value=None, dtype=tf.float32, normalizer=None)\n",
      "INFO:tensorflow:Restored model from /tmp/tmp5ft8b0l9\n",
      "INFO:tensorflow:Eval steps [0,1) for training step 5000.\n",
      "INFO:tensorflow:Saving evaluation summary for 5000 step: loss = 23.1625\n"
     ]
    }
   ],
   "source": [
    "ev = regressor.evaluate(input_fn=lambda: input_fn(test_set), steps=1)"
   ]
  },
  {
   "cell_type": "markdown",
   "metadata": {},
   "source": [
    "Retrieve the loss from the ev results and print it to output:"
   ]
  },
  {
   "cell_type": "code",
   "execution_count": 17,
   "metadata": {
    "collapsed": false
   },
   "outputs": [
    {
     "name": "stdout",
     "output_type": "stream",
     "text": [
      "Loss: 23.162535\n"
     ]
    }
   ],
   "source": [
    "loss_score = ev[\"loss\"]\n",
    "print(\"Loss: {0:f}\".format(loss_score))"
   ]
  },
  {
   "cell_type": "markdown",
   "metadata": {},
   "source": [
    "# Making Predictions\n",
    "\n",
    "Finally, you can use the model to predict median house values for the prediction_set, which contains feature data but no labels for six examples:\n",
    "\n"
   ]
  },
  {
   "cell_type": "code",
   "execution_count": 18,
   "metadata": {
    "collapsed": false
   },
   "outputs": [
    {
     "name": "stderr",
     "output_type": "stream",
     "text": [
      "WARNING:tensorflow:Calling BaseEstimator.predict (from tensorflow.contrib.learn.python.learn.estimators.estimator) with as_iterable=False is deprecated and will be removed after 2016-09-15.\n",
      "Instructions for updating:\n",
      "The default behavior of predict() is changing. The default value for\n",
      "as_iterable will change to True, and then the flag will be removed\n",
      "altogether. The behavior of this flag is described below.\n",
      "INFO:tensorflow:Transforming feature_column _RealValuedColumn(column_name='age', dimension=1, default_value=None, dtype=tf.float32, normalizer=None)\n",
      "INFO:tensorflow:Transforming feature_column _RealValuedColumn(column_name='crim', dimension=1, default_value=None, dtype=tf.float32, normalizer=None)\n",
      "INFO:tensorflow:Transforming feature_column _RealValuedColumn(column_name='dis', dimension=1, default_value=None, dtype=tf.float32, normalizer=None)\n",
      "INFO:tensorflow:Transforming feature_column _RealValuedColumn(column_name='indus', dimension=1, default_value=None, dtype=tf.float32, normalizer=None)\n",
      "INFO:tensorflow:Transforming feature_column _RealValuedColumn(column_name='nox', dimension=1, default_value=None, dtype=tf.float32, normalizer=None)\n",
      "INFO:tensorflow:Transforming feature_column _RealValuedColumn(column_name='ptratio', dimension=1, default_value=None, dtype=tf.float32, normalizer=None)\n",
      "INFO:tensorflow:Transforming feature_column _RealValuedColumn(column_name='rm', dimension=1, default_value=None, dtype=tf.float32, normalizer=None)\n",
      "INFO:tensorflow:Transforming feature_column _RealValuedColumn(column_name='tax', dimension=1, default_value=None, dtype=tf.float32, normalizer=None)\n",
      "INFO:tensorflow:Transforming feature_column _RealValuedColumn(column_name='zn', dimension=1, default_value=None, dtype=tf.float32, normalizer=None)\n",
      "INFO:tensorflow:Loading model from checkpoint: /tmp/tmp5ft8b0l9/model.ckpt-5000-?????-of-00001.\n"
     ]
    },
    {
     "name": "stdout",
     "output_type": "stream",
     "text": [
      "Predictions: [ 35.83711624  19.06627274  22.22982788  34.91257858  14.789711\n",
      "  20.82322502]\n"
     ]
    }
   ],
   "source": [
    "y = regressor.predict(input_fn=lambda: input_fn(prediction_set))\n",
    "print (\"Predictions: {}\".format(str(y)))"
   ]
  },
  {
   "cell_type": "markdown",
   "metadata": {},
   "source": [
    "Your results should contain six house-value predictions in thousands of dollars, e.g"
   ]
  },
  {
   "cell_type": "code",
   "execution_count": null,
   "metadata": {
    "collapsed": true
   },
   "outputs": [],
   "source": []
  }
 ],
 "metadata": {
  "anaconda-cloud": {},
  "kernelspec": {
   "display_name": "Python [default]",
   "language": "python",
   "name": "python3"
  },
  "language_info": {
   "codemirror_mode": {
    "name": "ipython",
    "version": 3
   },
   "file_extension": ".py",
   "mimetype": "text/x-python",
   "name": "python",
   "nbconvert_exporter": "python",
   "pygments_lexer": "ipython3",
   "version": "3.5.2"
  }
 },
 "nbformat": 4,
 "nbformat_minor": 1
}
